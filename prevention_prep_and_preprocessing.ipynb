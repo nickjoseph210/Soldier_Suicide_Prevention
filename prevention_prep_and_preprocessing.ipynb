{
 "cells": [
  {
   "cell_type": "markdown",
   "metadata": {},
   "source": [
    "# Veteran Suicide Prevention - Data Prep and Preprocessing Scratchpad"
   ]
  },
  {
   "cell_type": "code",
   "execution_count": 1,
   "metadata": {},
   "outputs": [],
   "source": [
    "import pandas as pd\n",
    "import numpy as np\n",
    "import sklearn.preprocessing\n",
    "import sklearn.model_selection\n",
    "import sklearn.impute\n",
    "from sklearn.model_selection import train_test_split\n",
    "\n",
    "import suicide_acquire\n"
   ]
  },
  {
   "cell_type": "code",
   "execution_count": 2,
   "metadata": {},
   "outputs": [
    {
     "name": "stdout",
     "output_type": "stream",
     "text": [
      "Age-Adjusted Veteran Suicide Rate DF\n",
      "Consists of 13 rows and 10 columns\n"
     ]
    },
    {
     "data": {
      "text/html": [
       "<div>\n",
       "<style scoped>\n",
       "    .dataframe tbody tr th:only-of-type {\n",
       "        vertical-align: middle;\n",
       "    }\n",
       "\n",
       "    .dataframe tbody tr th {\n",
       "        vertical-align: top;\n",
       "    }\n",
       "\n",
       "    .dataframe thead th {\n",
       "        text-align: right;\n",
       "    }\n",
       "</style>\n",
       "<table border=\"1\" class=\"dataframe\">\n",
       "  <thead>\n",
       "    <tr style=\"text-align: right;\">\n",
       "      <th></th>\n",
       "      <th>year_of_death</th>\n",
       "      <th>veteran_suicide_deaths</th>\n",
       "      <th>veteran_population_estimate</th>\n",
       "      <th>veteran_age_adjusted_rate_per_100K</th>\n",
       "      <th>male_veteran_suicide_deaths</th>\n",
       "      <th>male_veteran_population_estimate</th>\n",
       "      <th>male_veteran_age_adjusted_rate_per_100K</th>\n",
       "      <th>female_veteran_suicide_deaths</th>\n",
       "      <th>female_veteran_population_estimate</th>\n",
       "      <th>female_veteran_age_adjusted_rate_per_100K</th>\n",
       "    </tr>\n",
       "  </thead>\n",
       "  <tbody>\n",
       "    <tr>\n",
       "      <th>4</th>\n",
       "      <td>2005</td>\n",
       "      <td>5787</td>\n",
       "      <td>24240000</td>\n",
       "      <td>25.5</td>\n",
       "      <td>5610</td>\n",
       "      <td>22501000</td>\n",
       "      <td>27.3</td>\n",
       "      <td>177</td>\n",
       "      <td>1739000</td>\n",
       "      <td>10.4</td>\n",
       "    </tr>\n",
       "    <tr>\n",
       "      <th>5</th>\n",
       "      <td>2006</td>\n",
       "      <td>5688</td>\n",
       "      <td>23731000</td>\n",
       "      <td>24.8</td>\n",
       "      <td>5527</td>\n",
       "      <td>21992000</td>\n",
       "      <td>26.8</td>\n",
       "      <td>161</td>\n",
       "      <td>1739000</td>\n",
       "      <td>9.2</td>\n",
       "    </tr>\n",
       "    <tr>\n",
       "      <th>6</th>\n",
       "      <td>2007</td>\n",
       "      <td>5893</td>\n",
       "      <td>23291000</td>\n",
       "      <td>26.5</td>\n",
       "      <td>5724</td>\n",
       "      <td>21588000</td>\n",
       "      <td>28.7</td>\n",
       "      <td>169</td>\n",
       "      <td>1703000</td>\n",
       "      <td>9.7</td>\n",
       "    </tr>\n",
       "    <tr>\n",
       "      <th>7</th>\n",
       "      <td>2008</td>\n",
       "      <td>6216</td>\n",
       "      <td>22996000</td>\n",
       "      <td>28.4</td>\n",
       "      <td>6024</td>\n",
       "      <td>21322000</td>\n",
       "      <td>30.8</td>\n",
       "      <td>192</td>\n",
       "      <td>1674000</td>\n",
       "      <td>11.3</td>\n",
       "    </tr>\n",
       "    <tr>\n",
       "      <th>8</th>\n",
       "      <td>2009</td>\n",
       "      <td>6172</td>\n",
       "      <td>22603000</td>\n",
       "      <td>28.3</td>\n",
       "      <td>5968</td>\n",
       "      <td>20917000</td>\n",
       "      <td>30.4</td>\n",
       "      <td>204</td>\n",
       "      <td>1686000</td>\n",
       "      <td>12.2</td>\n",
       "    </tr>\n",
       "  </tbody>\n",
       "</table>\n",
       "</div>"
      ],
      "text/plain": [
       "   year_of_death  veteran_suicide_deaths  veteran_population_estimate  \\\n",
       "4           2005                    5787                     24240000   \n",
       "5           2006                    5688                     23731000   \n",
       "6           2007                    5893                     23291000   \n",
       "7           2008                    6216                     22996000   \n",
       "8           2009                    6172                     22603000   \n",
       "\n",
       "   veteran_age_adjusted_rate_per_100K  male_veteran_suicide_deaths  \\\n",
       "4                                25.5                         5610   \n",
       "5                                24.8                         5527   \n",
       "6                                26.5                         5724   \n",
       "7                                28.4                         6024   \n",
       "8                                28.3                         5968   \n",
       "\n",
       "   male_veteran_population_estimate  male_veteran_age_adjusted_rate_per_100K  \\\n",
       "4                          22501000                                     27.3   \n",
       "5                          21992000                                     26.8   \n",
       "6                          21588000                                     28.7   \n",
       "7                          21322000                                     30.8   \n",
       "8                          20917000                                     30.4   \n",
       "\n",
       "   female_veteran_suicide_deaths  female_veteran_population_estimate  \\\n",
       "4                            177                             1739000   \n",
       "5                            161                             1739000   \n",
       "6                            169                             1703000   \n",
       "7                            192                             1674000   \n",
       "8                            204                             1686000   \n",
       "\n",
       "   female_veteran_age_adjusted_rate_per_100K  \n",
       "4                                       10.4  \n",
       "5                                        9.2  \n",
       "6                                        9.7  \n",
       "7                                       11.3  \n",
       "8                                       12.2  "
      ]
     },
     "execution_count": 2,
     "metadata": {},
     "output_type": "execute_result"
    }
   ],
   "source": [
    "age_adjusted_df = suicide_acquire.age_adjusted()\n",
    "\n",
    "age_adjusted_df.head()"
   ]
  },
  {
   "cell_type": "code",
   "execution_count": 3,
   "metadata": {},
   "outputs": [
    {
     "name": "stdout",
     "output_type": "stream",
     "text": [
      "<class 'pandas.core.frame.DataFrame'>\n",
      "Int64Index: 13 entries, 4 to 16\n",
      "Data columns (total 10 columns):\n",
      "year_of_death                                13 non-null int64\n",
      "veteran_suicide_deaths                       13 non-null int64\n",
      "veteran_population_estimate                  13 non-null int64\n",
      "veteran_age_adjusted_rate_per_100K           13 non-null float64\n",
      "male_veteran_suicide_deaths                  13 non-null int64\n",
      "male_veteran_population_estimate             13 non-null int64\n",
      "male_veteran_age_adjusted_rate_per_100K      13 non-null float64\n",
      "female_veteran_suicide_deaths                13 non-null int64\n",
      "female_veteran_population_estimate           13 non-null int64\n",
      "female_veteran_age_adjusted_rate_per_100K    13 non-null float64\n",
      "dtypes: float64(3), int64(7)\n",
      "memory usage: 1.1 KB\n"
     ]
    }
   ],
   "source": [
    "age_adjusted_df.info()"
   ]
  },
  {
   "cell_type": "code",
   "execution_count": 6,
   "metadata": {},
   "outputs": [
    {
     "ename": "NameError",
     "evalue": "name 'age_adjusted_df_train' is not defined",
     "output_type": "error",
     "traceback": [
      "\u001b[0;31m---------------------------------------------------------------------------\u001b[0m",
      "\u001b[0;31mNameError\u001b[0m                                 Traceback (most recent call last)",
      "\u001b[0;32m<ipython-input-6-00d84b2b3228>\u001b[0m in \u001b[0;36m<module>\u001b[0;34m\u001b[0m\n\u001b[1;32m      1\u001b[0m \u001b[0mage_adjusted_train\u001b[0m\u001b[0;34m,\u001b[0m \u001b[0mage_adjusted_test\u001b[0m \u001b[0;34m=\u001b[0m \u001b[0msklearn\u001b[0m\u001b[0;34m.\u001b[0m\u001b[0mmodel_selection\u001b[0m\u001b[0;34m.\u001b[0m\u001b[0mtrain_test_split\u001b[0m\u001b[0;34m(\u001b[0m\u001b[0mage_adjusted_df\u001b[0m\u001b[0;34m,\u001b[0m \u001b[0mtrain_size\u001b[0m\u001b[0;34m=\u001b[0m\u001b[0;36m.80\u001b[0m\u001b[0;34m,\u001b[0m \u001b[0mrandom_state\u001b[0m\u001b[0;34m=\u001b[0m\u001b[0;36m123\u001b[0m\u001b[0;34m)\u001b[0m\u001b[0;34m\u001b[0m\u001b[0;34m\u001b[0m\u001b[0m\n\u001b[0;32m----> 2\u001b[0;31m \u001b[0mage_adjusted_train\u001b[0m\u001b[0;34m,\u001b[0m \u001b[0mage_adjusted_validate\u001b[0m \u001b[0;34m=\u001b[0m \u001b[0msklearn\u001b[0m\u001b[0;34m.\u001b[0m\u001b[0mmodel_selection\u001b[0m\u001b[0;34m.\u001b[0m\u001b[0mtrain_test_split\u001b[0m\u001b[0;34m(\u001b[0m\u001b[0mage_adjusted_df_train\u001b[0m\u001b[0;34m,\u001b[0m \u001b[0mtrain_size\u001b[0m\u001b[0;34m=\u001b[0m\u001b[0;36m.80\u001b[0m\u001b[0;34m,\u001b[0m \u001b[0mrandom_state\u001b[0m\u001b[0;34m=\u001b[0m\u001b[0;36m123\u001b[0m\u001b[0;34m)\u001b[0m\u001b[0;34m\u001b[0m\u001b[0;34m\u001b[0m\u001b[0m\n\u001b[0m\u001b[1;32m      3\u001b[0m \u001b[0;34m\u001b[0m\u001b[0m\n",
      "\u001b[0;31mNameError\u001b[0m: name 'age_adjusted_df_train' is not defined"
     ]
    }
   ],
   "source": [
    "y = df.pop('output')\n",
    "X = df\n",
    "\n",
    "X_train,X_test,y_train,y_test = train_test_split(X.index,y,test_size=0.2)\n",
    "X.iloc[X_train] # return dataframe train"
   ]
  },
  {
   "cell_type": "code",
   "execution_count": 4,
   "metadata": {},
   "outputs": [
    {
     "name": "stdout",
     "output_type": "stream",
     "text": [
      "This is the AgeGroup DataFrame\n",
      "Consists of 52 rows and 11 columns\n"
     ]
    },
    {
     "data": {
      "text/html": [
       "<div>\n",
       "<style scoped>\n",
       "    .dataframe tbody tr th:only-of-type {\n",
       "        vertical-align: middle;\n",
       "    }\n",
       "\n",
       "    .dataframe tbody tr th {\n",
       "        vertical-align: top;\n",
       "    }\n",
       "\n",
       "    .dataframe thead th {\n",
       "        text-align: right;\n",
       "    }\n",
       "</style>\n",
       "<table border=\"1\" class=\"dataframe\">\n",
       "  <thead>\n",
       "    <tr style=\"text-align: right;\">\n",
       "      <th></th>\n",
       "      <th>year_of_death</th>\n",
       "      <th>age_group</th>\n",
       "      <th>total_suicides</th>\n",
       "      <th>est_total_vet_pop</th>\n",
       "      <th>veteran_crude_rate_per_100K</th>\n",
       "      <th>male_veteran_suicides</th>\n",
       "      <th>est_male_vet_pop</th>\n",
       "      <th>male_veteran_crude_rate_per_100K</th>\n",
       "      <th>female_veteran_suicides</th>\n",
       "      <th>est_female_vet_pop</th>\n",
       "      <th>age_group_num</th>\n",
       "    </tr>\n",
       "  </thead>\n",
       "  <tbody>\n",
       "    <tr>\n",
       "      <th>4</th>\n",
       "      <td>2005</td>\n",
       "      <td>18-34</td>\n",
       "      <td>544</td>\n",
       "      <td>2147000</td>\n",
       "      <td>25.3</td>\n",
       "      <td>504</td>\n",
       "      <td>1779000</td>\n",
       "      <td>28.3</td>\n",
       "      <td>40</td>\n",
       "      <td>368000</td>\n",
       "      <td>1</td>\n",
       "    </tr>\n",
       "    <tr>\n",
       "      <th>5</th>\n",
       "      <td>2005</td>\n",
       "      <td>35-54</td>\n",
       "      <td>2059</td>\n",
       "      <td>7116000</td>\n",
       "      <td>28.9</td>\n",
       "      <td>1948</td>\n",
       "      <td>6336000</td>\n",
       "      <td>30.7</td>\n",
       "      <td>111</td>\n",
       "      <td>780000</td>\n",
       "      <td>2</td>\n",
       "    </tr>\n",
       "    <tr>\n",
       "      <th>6</th>\n",
       "      <td>2005</td>\n",
       "      <td>55-74</td>\n",
       "      <td>1866</td>\n",
       "      <td>9976000</td>\n",
       "      <td>18.7</td>\n",
       "      <td>1847</td>\n",
       "      <td>9626000</td>\n",
       "      <td>19.2</td>\n",
       "      <td>26</td>\n",
       "      <td>591000</td>\n",
       "      <td>3</td>\n",
       "    </tr>\n",
       "    <tr>\n",
       "      <th>7</th>\n",
       "      <td>2005</td>\n",
       "      <td>75+</td>\n",
       "      <td>1315</td>\n",
       "      <td>5001000</td>\n",
       "      <td>26.3</td>\n",
       "      <td>1308</td>\n",
       "      <td>4760000</td>\n",
       "      <td>27.5</td>\n",
       "      <td>1</td>\n",
       "      <td>1</td>\n",
       "      <td>4</td>\n",
       "    </tr>\n",
       "    <tr>\n",
       "      <th>9</th>\n",
       "      <td>2006</td>\n",
       "      <td>18-34</td>\n",
       "      <td>482</td>\n",
       "      <td>2113000</td>\n",
       "      <td>22.8</td>\n",
       "      <td>450</td>\n",
       "      <td>1740000</td>\n",
       "      <td>25.9</td>\n",
       "      <td>32</td>\n",
       "      <td>373000</td>\n",
       "      <td>1</td>\n",
       "    </tr>\n",
       "  </tbody>\n",
       "</table>\n",
       "</div>"
      ],
      "text/plain": [
       "  year_of_death age_group total_suicides est_total_vet_pop  \\\n",
       "4          2005     18-34            544           2147000   \n",
       "5          2005     35-54           2059           7116000   \n",
       "6          2005     55-74           1866           9976000   \n",
       "7          2005       75+           1315           5001000   \n",
       "9          2006     18-34            482           2113000   \n",
       "\n",
       "  veteran_crude_rate_per_100K male_veteran_suicides est_male_vet_pop  \\\n",
       "4                        25.3                   504          1779000   \n",
       "5                        28.9                  1948          6336000   \n",
       "6                        18.7                  1847          9626000   \n",
       "7                        26.3                  1308          4760000   \n",
       "9                        22.8                   450          1740000   \n",
       "\n",
       "  male_veteran_crude_rate_per_100K female_veteran_suicides est_female_vet_pop  \\\n",
       "4                             28.3                      40             368000   \n",
       "5                             30.7                     111             780000   \n",
       "6                             19.2                      26             591000   \n",
       "7                             27.5                       1                  1   \n",
       "9                             25.9                      32             373000   \n",
       "\n",
       "   age_group_num  \n",
       "4              1  \n",
       "5              2  \n",
       "6              3  \n",
       "7              4  \n",
       "9              1  "
      ]
     },
     "execution_count": 4,
     "metadata": {},
     "output_type": "execute_result"
    }
   ],
   "source": [
    "age_group_df = suicide_acquire.age_group_df()\n",
    "\n",
    "age_group_df.head()"
   ]
  },
  {
   "cell_type": "code",
   "execution_count": 5,
   "metadata": {},
   "outputs": [
    {
     "ename": "NameError",
     "evalue": "name 'X' is not defined",
     "output_type": "error",
     "traceback": [
      "\u001b[0;31m---------------------------------------------------------------------------\u001b[0m",
      "\u001b[0;31mNameError\u001b[0m                                 Traceback (most recent call last)",
      "\u001b[0;32m<ipython-input-5-24c3b95b9bdb>\u001b[0m in \u001b[0;36m<module>\u001b[0;34m\u001b[0m\n\u001b[0;32m----> 1\u001b[0;31m X_train, X_test, y_train, y_test = train_test_split(X, y, \n\u001b[0m\u001b[1;32m      2\u001b[0m                             test_size=0.2, random_state=123)\n",
      "\u001b[0;31mNameError\u001b[0m: name 'X' is not defined"
     ]
    }
   ],
   "source": []
  },
  {
   "cell_type": "code",
   "execution_count": null,
   "metadata": {},
   "outputs": [],
   "source": []
  },
  {
   "cell_type": "code",
   "execution_count": null,
   "metadata": {},
   "outputs": [],
   "source": [
    "recent_vha_user_df = suicide_acquire.recent_vha_user()\n",
    "\n",
    "recent_vha_user_df.head()"
   ]
  },
  {
   "cell_type": "code",
   "execution_count": null,
   "metadata": {},
   "outputs": [],
   "source": []
  },
  {
   "cell_type": "code",
   "execution_count": null,
   "metadata": {},
   "outputs": [],
   "source": [
    "vha_by_age_group_df = suicide_acquire.vha_by_age_group()\n",
    "\n",
    "vha_by_age_group_df.head()"
   ]
  },
  {
   "cell_type": "code",
   "execution_count": null,
   "metadata": {},
   "outputs": [],
   "source": []
  },
  {
   "cell_type": "code",
   "execution_count": null,
   "metadata": {},
   "outputs": [],
   "source": [
    "non_vha_user_df = suicide_acquire.non_vha_user()\n",
    "\n",
    "non_vha_user_df.head()"
   ]
  },
  {
   "cell_type": "code",
   "execution_count": null,
   "metadata": {},
   "outputs": [],
   "source": []
  },
  {
   "cell_type": "code",
   "execution_count": null,
   "metadata": {},
   "outputs": [],
   "source": [
    "non_vha_by_age_df = suicide_acquire.non_vha_by_age()\n",
    "\n",
    "non_vha_by_age_df.head()"
   ]
  },
  {
   "cell_type": "code",
   "execution_count": null,
   "metadata": {},
   "outputs": [],
   "source": []
  },
  {
   "cell_type": "code",
   "execution_count": null,
   "metadata": {},
   "outputs": [],
   "source": [
    "def split_dataframes():\n",
    "    \"\"\"Simple loop function to split all the dataframes into train, validate, and test sets\"\"\"\n",
    "    dataframes = age_adjusted_df, age_group_df, recent_vha_user_df, vha_by_age_group, non_vha_user, non_vha_by_age_df\n",
    "\n",
    "    for dataframe in dataframes:\n",
    "        data_train, data_test = sklearn.model_selection.train_test_split(dataframes, train_size=.80, random_state=123)\n",
    "        data_train, data_validate = sklearn.model_selection.train_test_split(data_train, train_size=.80, random_state=123)\n",
    "    \n",
    "    return dataframes"
   ]
  },
  {
   "cell_type": "code",
   "execution_count": null,
   "metadata": {},
   "outputs": [],
   "source": [
    "age_adjusted_train.shape"
   ]
  },
  {
   "cell_type": "markdown",
   "metadata": {},
   "source": [
    "### Preprocessing functions that follow:\n",
    "\n",
    "- Based on the similar division of the datasets into train, validate, and test portions, the 'behind the scenes' work of the preprocessing the datasets for exploration takes place in the accompanying '"
   ]
  },
  {
   "cell_type": "code",
   "execution_count": null,
   "metadata": {},
   "outputs": [],
   "source": []
  },
  {
   "cell_type": "code",
   "execution_count": null,
   "metadata": {},
   "outputs": [],
   "source": []
  }
 ],
 "metadata": {
  "kernelspec": {
   "display_name": "Python 3",
   "language": "python",
   "name": "python3"
  },
  "language_info": {
   "codemirror_mode": {
    "name": "ipython",
    "version": 3
   },
   "file_extension": ".py",
   "mimetype": "text/x-python",
   "name": "python",
   "nbconvert_exporter": "python",
   "pygments_lexer": "ipython3",
   "version": "3.7.4"
  }
 },
 "nbformat": 4,
 "nbformat_minor": 2
}
